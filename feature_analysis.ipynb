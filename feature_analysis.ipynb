{
 "cells": [
  {
   "cell_type": "markdown",
   "metadata": {},
   "source": [
    "# Imports and Loading"
   ]
  },
  {
   "cell_type": "code",
   "execution_count": 1,
   "metadata": {},
   "outputs": [
    {
     "name": "stdout",
     "output_type": "stream",
     "text": [
      "Requirement already satisfied: nbimporter in /opt/homebrew/Caskroom/miniconda/base/envs/aai/lib/python3.10/site-packages (0.3.4)\n",
      "Note: you may need to restart the kernel to use updated packages.\n"
     ]
    }
   ],
   "source": [
    "# Loading the required libraries\n",
    "%pip install nbimporter\n",
    "import nbimporter\n",
    "import feature_extraction\n",
    "from feature_extraction import EmpathFeatureExtractor\n",
    "from feature_extraction import NGramFeatureExtractor\n",
    "from feature_extraction import EmpathFeatureAnalyzer\n",
    "import os\n",
    "from collections import Counter\n",
    "import pandas as pd\n",
    "import matplotlib.pyplot as plt\n",
    "from sklearn.feature_extraction.text import CountVectorizer\n",
    "%store -r selected_categories"
   ]
  },
  {
   "cell_type": "code",
   "execution_count": 2,
   "metadata": {},
   "outputs": [
    {
     "name": "stdout",
     "output_type": "stream",
     "text": [
      "Loaded 293 documents.\n",
      "Labels: {0, 1}\n"
     ]
    }
   ],
   "source": [
    "# Load documents and labels\n",
    "folders = {\n",
    "    \"depression\": {\"path\": \"data/preprocessed/preprocessed_depression_posts\", \"label\": 1},\n",
    "    \"breastcancer\": {\"path\": \"data/preprocessed/preprocessed_breastcancer_posts\", \"label\": 0},\n",
    "}\n",
    "documents, labels = [], []\n",
    "for category, data in folders.items():\n",
    "    for file_name in os.listdir(data[\"path\"]):\n",
    "        file_path = os.path.join(data[\"path\"], file_name)\n",
    "        with open(file_path, 'r', encoding='utf-8') as file:\n",
    "            documents.append(file.read())\n",
    "            labels.append(data[\"label\"])\n",
    "print(f\"Loaded {len(documents)} documents.\")\n",
    "print(f\"Labels: {set(labels)}\")"
   ]
  },
  {
   "cell_type": "markdown",
   "metadata": {},
   "source": [
    "# Frequency and Predictive Power of N-gram Features"
   ]
  },
  {
   "cell_type": "code",
   "execution_count": null,
   "metadata": {},
   "outputs": [],
   "source": [
    "# Extracting n-gram features\n",
    "ngram_extractor = NGramFeatureExtractor(documents, labels)\n",
    "ngram_extractor.extract_features()\n",
    "depression_unigram_freqs, non_depression_unigram_freqs = ngram_extractor.compute_frequencies(feature_type=\"unigram\")\n",
    "depression_bigram_freqs, non_depression_bigram_freqs = ngram_extractor.compute_frequencies(feature_type=\"bigram\")\n",
    "top_100_depression_unigrams = ngram_extractor.get_top_n_features(depression_unigram_freqs, top_n=100)\n",
    "print(top_100_depression_unigrams)\n",
    "top_100_non_depression_unigrams = ngram_extractor.get_top_n_features(non_depression_unigram_freqs, top_n=100)\n",
    "print(top_100_non_depression_unigrams)\n",
    "top_100_depression_bigrams = ngram_extractor.get_top_n_features(depression_bigram_freqs, top_n=100)\n",
    "print(top_100_depression_bigrams)\n",
    "top_100_non_depression_bigrams = ngram_extractor.get_top_n_features(non_depression_bigram_freqs, top_n=100)\n",
    "print(top_100_non_depression_bigrams)\n",
    "ngram_extractor.visualize_wordcloud(depression_unigram_freqs, \"Depression Unigram Word Cloud\")\n",
    "ngram_extractor.visualize_wordcloud(non_depression_unigram_freqs, \"Non-Depression Unigram Word Cloud\")\n",
    "ngram_extractor.visualize_wordcloud(depression_bigram_freqs, \"Depression Bigram Word Cloud\")\n",
    "ngram_extractor.visualize_wordcloud(non_depression_bigram_freqs, \"Non-Depression Bigram Word Cloud\")"
   ]
  },
  {
   "cell_type": "markdown",
   "metadata": {},
   "source": [
    "# Predictive Power of Empath Features"
   ]
  },
  {
   "cell_type": "code",
   "execution_count": 3,
   "metadata": {},
   "outputs": [
    {
     "name": "stdout",
     "output_type": "stream",
     "text": [
      "Extracted Empath features with shape: (293, 237)\n",
      "Removed constant columns: ['articles', 'auxiliary_verbs', 'adverbs', 'conjunctions', 'personal_pronouns', 'impersonal_pronouns', 'negations', 'prepositions', 'verbs', 'nouns', 'adjectives', 'comparatives', 'superlatives', 'modifiers', 'function_words', 'filler_words', 'verb_tense', 'slang', 'jargon', 'formal_language', 'casual_language', 'exclamations', 'contractions', 'word_complexity', 'sentiment_words', 'anxiety', 'hope', 'excitement', 'relief', 'gratitude', 'guilt', 'boredom', 'embarrassment', 'longing', 'nostalgia', 'frustration', 'melancholy', 'illness', 'fitness', 'nutrition', 'ingestion', 'physical_state', 'medicine', 'aging', 'disease', 'hospital', 'recovery', 'dieting', 'mental_health', 'drug_use', 'headache', 'fatigue', 'hormones', 'appetite', 'relationships', 'group_behavior', 'teamwork', 'community', 'peer_pressure', 'leadership', 'parenting', 'mentorship', 'marriage', 'divorce', 'gender_roles', 'social_identity', 'cultural_rituals', 'networking', 'altruism', 'conflict', 'social_support', 'dominance', 'affiliation', 'intimacy', 'supportiveness', 'competition', 'conflict_resolution', 'collaboration', 'in-group', 'out-group', 'prejudice', 'certainty', 'doubt', 'insight', 'cause', 'discrepancy', 'problem_solving', 'creativity', 'self_reflection', 'planning', 'memory', 'perception', 'attention', 'reasoning', 'thought_process', 'decision_making', 'learning', 'metacognition', 'adaptability', 'focus', 'perspective', 'problem_analysis', 'evaluation', 'interpretation', 'logic', 'intelligence', 'rational_thought', 'intuition', 'conceptualization', 'control', 'self-esteem', 'autonomy', 'self-assertion', 'ambition', 'conformity', 'subordination', 'dependence', 'submission', 'accomplishment', 'control_seeking', 'status', 'prosocial_behavior', 'spirituality', 'faith', 'beliefs', 'sacred', 'prayer', 'meditation', 'afterlife', 'soul', 'god', 'higher_power', 'inspiration', 'transcendence', 'morality', 'ethics', 'rituals', 'holiness', 'mindfulness', 'wealth', 'career', 'travel', 'education', 'retirement', 'family_life', 'hobbies', 'volunteering', 'pets', 'entertainment', 'adventure', 'environment', 'safety', 'materialism', 'self_improvement', 'self_growth', 'happiness', 'life_purpose', 'work_life_balance', 'stress', 'coping', 'job_satisfaction', 'legacy', 'job_search', 'unemployment', 'retirement_plans', 'dating', 'romantic_relationships', 'life_stressors', 'transitions', 'present', 'past', 'future', 'afternoon', 'evening', 'day', 'weekdays', 'weekends', 'seasons', 'holidays', 'lifespan', 'long_term', 'short_term', 'routine', 'historical', 'epoch', 'momentary', 'timeliness', 'timelessness', 'urgency', 'progression']\n",
      "                       LIWC Category Example Word Correlation P-Value\n",
      " psychological_processes - affective  contentment        0.17   0.000\n",
      "                   personal_concerns     violence        0.16   0.000\n",
      "psychological_processes - biological         pain        0.13   0.000\n",
      "    psychological_processes - social      friends        0.14   0.000\n",
      "                   time_orientations      morning        0.14   0.006\n",
      " psychological_processes - spiritual     religion        0.11   0.031\n",
      "    psychological_processes - drives        power        0.09   0.043\n",
      " psychological_processes - cognitive    confusion        0.00   0.943\n"
     ]
    }
   ],
   "source": [
    "# Analyzing the Empath model\n",
    "empath_analyzer = EmpathFeatureAnalyzer(documents, labels, selected_categories)\n",
    "\n",
    "# Run the pipeline\n",
    "empath_analyzer.extract_empath_features()\n",
    "empath_analyzer.analyze_correlation()\n",
    "empath_analyzer.group_correlations_by_subcategory()\n",
    "\n",
    "# Generate and visualize the summary table\n",
    "summary_table = empath_analyzer.generate_summary_table()\n",
    "empath_analyzer.visualize_summary_table()\n"
   ]
  },
  {
   "cell_type": "markdown",
   "metadata": {},
   "source": [
    "# TODO: Predictive Power of LDA Features"
   ]
  },
  {
   "cell_type": "markdown",
   "metadata": {},
   "source": [
    "Objective: Use Latent Dirichlet Allocation (LDA) to discover hidden topics in the posts, identifying themes associated with depression.\n",
    "\n",
    "Process:\n",
    "Train LDA models on the text data.\n",
    "Generate topic distributions for each post (probability of belonging to each topic).\n",
    "Select the top 20 topics with the largest proportions in the data.\n",
    "Use t-SNE for dimensionality reduction to visualize topic clusters in 2D space.\n",
    "\n",
    "Findings:\n",
    "Topics indicative of depression include:\n",
    "Themes like \"Depression,\" \"Broke,\" \"Tired,\" \"Pain,\" reflecting suffering, self-preoccupation, and low self-esteem.\n",
    "Words associated with disclosure, loneliness, hostility, and interpersonal issues.\n",
    "\n",
    "Significance: LDA captures latent patterns that are not explicitly defined (unlike LIWC), enabling nuanced analysis of depression-related themes.\n"
   ]
  }
 ],
 "metadata": {
  "kernelspec": {
   "display_name": "aai",
   "language": "python",
   "name": "python3"
  },
  "language_info": {
   "codemirror_mode": {
    "name": "ipython",
    "version": 3
   },
   "file_extension": ".py",
   "mimetype": "text/x-python",
   "name": "python",
   "nbconvert_exporter": "python",
   "pygments_lexer": "ipython3",
   "version": "3.10.8"
  }
 },
 "nbformat": 4,
 "nbformat_minor": 2
}
