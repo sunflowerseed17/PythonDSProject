{
  "nbformat": 4,
  "nbformat_minor": 0,
  "metadata": {
    "colab": {
      "provenance": [],
      "authorship_tag": "ABX9TyNXBjRcQJoxApJqEm3x1y/Q",
      "include_colab_link": true
    },
    "kernelspec": {
      "name": "python3",
      "display_name": "Python 3"
    },
    "language_info": {
      "name": "python"
    }
  },
  "cells": [
    {
      "cell_type": "markdown",
      "metadata": {
        "id": "view-in-github",
        "colab_type": "text"
      },
      "source": [
        "<a href=\"https://colab.research.google.com/github/sunflowerseed17/PythonDSProject/blob/main/Feature_Extraction.ipynb\" target=\"_parent\"><img src=\"https://colab.research.google.com/assets/colab-badge.svg\" alt=\"Open In Colab\"/></a>"
      ]
    },
    {
      "cell_type": "markdown",
      "source": [
        "Using TfidfVectorizer from Scikit-learn"
      ],
      "metadata": {
        "id": "3V9u9Fqb-9-B"
      }
    },
    {
      "cell_type": "markdown",
      "source": [
        "## TODO: N-Grams"
      ],
      "metadata": {
        "id": "MBpTQyK1-Wd-"
      }
    },
    {
      "cell_type": "markdown",
      "source": [
        "### TODO: Unigrams and Bigrams used to capture context (unigrams = single words, bigrams = pairs of words)"
      ],
      "metadata": {
        "id": "yps58HEq-jXl"
      }
    },
    {
      "cell_type": "markdown",
      "source": [
        "### TODO: Using TF-IDF (Term Frequency-Inverse Document Frequency) to weight the unigrams and bigrams depending on importance"
      ],
      "metadata": {
        "id": "870CuQF6-sNC"
      }
    },
    {
      "cell_type": "code",
      "source": [
        "from scikit-learn import tfidfvectorizer"
      ],
      "metadata": {
        "id": "mimgXtjeAZ0g"
      },
      "execution_count": null,
      "outputs": []
    },
    {
      "cell_type": "markdown",
      "source": [
        "## TODO: LIWC (Linguistic Inquiry and Word Count)"
      ],
      "metadata": {
        "id": "ZlqKn1ka_YJp"
      }
    },
    {
      "cell_type": "markdown",
      "source": [
        "### Use LIWC as a feature extractor (using the LIWC2015 dictionary)\n",
        "\n",
        "Extract 68 features from LIWC, focusing of categories of Psychological Processes, Linguistic Dimensions, Personal Concerns."
      ],
      "metadata": {
        "id": "LSuTH0fC_itX"
      }
    },
    {
      "cell_type": "markdown",
      "source": [
        "## TODO: Topic Modelling using LDA (Latent Dirichlet Allocation)"
      ],
      "metadata": {
        "id": "OBY4UR2DAEqD"
      }
    },
    {
      "cell_type": "markdown",
      "source": [
        "### Use the Mallet toolkit or Gensim library in Python to apply LDA"
      ],
      "metadata": {
        "id": "NTEalBH9AKy5"
      }
    },
    {
      "cell_type": "code",
      "source": [
        "import mallet\n",
        "import gensim"
      ],
      "metadata": {
        "id": "sT9zpSGsAht0"
      },
      "execution_count": null,
      "outputs": []
    }
  ]
}