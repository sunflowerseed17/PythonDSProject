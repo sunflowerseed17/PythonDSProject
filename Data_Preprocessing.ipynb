{
  "nbformat": 4,
  "nbformat_minor": 0,
  "metadata": {
    "colab": {
      "provenance": [],
      "authorship_tag": "ABX9TyOIcgWB/zXgpZRBGFC7sQUH",
      "include_colab_link": true
    },
    "kernelspec": {
      "name": "python3",
      "display_name": "Python 3"
    },
    "language_info": {
      "name": "python"
    }
  },
  "cells": [
    {
      "cell_type": "markdown",
      "metadata": {
        "id": "view-in-github",
        "colab_type": "text"
      },
      "source": [
        "<a href=\"https://colab.research.google.com/github/sunflowerseed17/PythonDSProject/blob/main/Data_Preprocessing.ipynb\" target=\"_parent\"><img src=\"https://colab.research.google.com/assets/colab-badge.svg\" alt=\"Open In Colab\"/></a>"
      ]
    },
    {
      "cell_type": "markdown",
      "source": [],
      "metadata": {
        "id": "YluZsyvS7yLk"
      }
    },
    {
      "cell_type": "code",
      "source": [
        "\"\"\"\n",
        "Importing necessary modules and packages\n",
        "\"\"\"\n",
        "import re\n",
        "import nltk\n",
        "from nltk.corpus import stopwords\n",
        "from nltk.tokenize import word_tokenize\n",
        "import spacy"
      ],
      "metadata": {
        "id": "07LQF9QtLU-K"
      },
      "execution_count": 1,
      "outputs": []
    },
    {
      "cell_type": "code",
      "source": [
        "\"\"\"\n",
        "Downloading necessary NLTK data\n",
        "\"\"\"\n",
        "nltk.download('punkt_tab')\n",
        "nltk.download('stopwords')"
      ],
      "metadata": {
        "id": "5-_5gmryLrsx",
        "outputId": "836a74f8-4700-4d84-9e85-ab2cf4d9bd06",
        "colab": {
          "base_uri": "https://localhost:8080/"
        }
      },
      "execution_count": 7,
      "outputs": [
        {
          "output_type": "stream",
          "name": "stderr",
          "text": [
            "[nltk_data] Downloading package punkt_tab to /root/nltk_data...\n",
            "[nltk_data]   Unzipping tokenizers/punkt_tab.zip.\n",
            "[nltk_data] Downloading package stopwords to /root/nltk_data...\n",
            "[nltk_data]   Package stopwords is already up-to-date!\n"
          ]
        },
        {
          "output_type": "execute_result",
          "data": {
            "text/plain": [
              "True"
            ]
          },
          "metadata": {},
          "execution_count": 7
        }
      ]
    },
    {
      "cell_type": "code",
      "source": [
        "\"\"\"\n",
        "Loading the spaCy English language model\n",
        "\"\"\"\n",
        "nlp = spacy.load(\"en_core_web_sm\")"
      ],
      "metadata": {
        "id": "1QPmpXIsLvtl"
      },
      "execution_count": 4,
      "outputs": []
    },
    {
      "cell_type": "code",
      "source": [
        "text = \"\"\"Check out this amazing blog post at https://example.com/blog-post! It's all about how to process text data effectively, including removing punctuation, URLs, and more.\"\"\""
      ],
      "metadata": {
        "id": "zgzv-jcZLz91"
      },
      "execution_count": 5,
      "outputs": []
    },
    {
      "cell_type": "markdown",
      "source": [
        "### TODO: Split the text into words"
      ],
      "metadata": {
        "id": "YHEMPcI17ZNX"
      }
    },
    {
      "cell_type": "code",
      "source": [
        "words = word_tokenize(text)"
      ],
      "metadata": {
        "id": "ee9QI8iaLzQ2"
      },
      "execution_count": 8,
      "outputs": []
    },
    {
      "cell_type": "markdown",
      "source": [
        "### TODO: Remove URLS, punctuation, stopwords and special characters"
      ],
      "metadata": {
        "id": "i6JlVsFI7fH-"
      }
    },
    {
      "cell_type": "code",
      "source": [
        "stop_words = set(stopwords.words('english'))\n",
        "cleaned_words = [\n",
        "    word for word in words\n",
        "    if word.isalpha() and word.lower() not in stop_words and not re.match(r'http[s]?://', word)\n",
        "]"
      ],
      "metadata": {
        "id": "yNVwkSoSL5ku"
      },
      "execution_count": 9,
      "outputs": []
    },
    {
      "cell_type": "markdown",
      "source": [
        "### TODO: Reduce words to root form (running -> run)"
      ],
      "metadata": {
        "id": "bdsWrZPw7p-p"
      }
    },
    {
      "cell_type": "code",
      "source": [
        "lemmatized_words = [token.lemma_ for token in nlp(\" \".join(cleaned_words))]"
      ],
      "metadata": {
        "id": "opQb-nxrLP-i"
      },
      "execution_count": 10,
      "outputs": []
    },
    {
      "cell_type": "code",
      "source": [
        "# Result\n",
        "print(\"Original Words:\", words)\n",
        "print(\"Cleaned Words:\", cleaned_words)\n",
        "print(\"Lemmatized Words:\", lemmatized_words)"
      ],
      "metadata": {
        "id": "cvjP7DDoMEwh",
        "outputId": "e7539828-006c-49b8-b5f2-23a14d7dc2a8",
        "colab": {
          "base_uri": "https://localhost:8080/"
        }
      },
      "execution_count": 11,
      "outputs": [
        {
          "output_type": "stream",
          "name": "stdout",
          "text": [
            "Original Words: ['Check', 'out', 'this', 'amazing', 'blog', 'post', 'at', 'https', ':', '//example.com/blog-post', '!', 'It', \"'s\", 'all', 'about', 'how', 'to', 'process', 'text', 'data', 'effectively', ',', 'including', 'removing', 'punctuation', ',', 'URLs', ',', 'and', 'more', '.']\n",
            "Cleaned Words: ['Check', 'amazing', 'blog', 'post', 'https', 'process', 'text', 'data', 'effectively', 'including', 'removing', 'punctuation', 'URLs']\n",
            "Lemmatized Words: ['check', 'amazing', 'blog', 'post', 'https', 'process', 'text', 'datum', 'effectively', 'include', 'remove', 'punctuation', 'url']\n"
          ]
        }
      ]
    }
  ]
}