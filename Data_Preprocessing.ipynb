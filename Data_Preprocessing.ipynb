{
  "nbformat": 4,
  "nbformat_minor": 0,
  "metadata": {
    "colab": {
      "provenance": [],
      "authorship_tag": "ABX9TyORK9nQ1oLEnAczLDLGQ2xF",
      "include_colab_link": true
    },
    "kernelspec": {
      "name": "python3",
      "display_name": "Python 3"
    },
    "language_info": {
      "name": "python"
    }
  },
  "cells": [
    {
      "cell_type": "markdown",
      "metadata": {
        "id": "view-in-github",
        "colab_type": "text"
      },
      "source": [
        "<a href=\"https://colab.research.google.com/github/sunflowerseed17/PythonDSProject/blob/main/Data_Preprocessing.ipynb\" target=\"_parent\"><img src=\"https://colab.research.google.com/assets/colab-badge.svg\" alt=\"Open In Colab\"/></a>"
      ]
    },
    {
      "cell_type": "code",
      "execution_count": null,
      "metadata": {
        "id": "2bAkVgkO7S2K"
      },
      "outputs": [],
      "source": []
    },
    {
      "cell_type": "markdown",
      "source": [
        "Using NLTK and spaCy in Python to do this"
      ],
      "metadata": {
        "id": "YluZsyvS7yLk"
      }
    },
    {
      "cell_type": "markdown",
      "source": [
        "### TODO: Split the text into words"
      ],
      "metadata": {
        "id": "YHEMPcI17ZNX"
      }
    },
    {
      "cell_type": "markdown",
      "source": [
        "### TODO: Remove URLS, punctuation, stopwords and special characters"
      ],
      "metadata": {
        "id": "i6JlVsFI7fH-"
      }
    },
    {
      "cell_type": "markdown",
      "source": [
        "### TODO: Reduce words to root form (running -> run)"
      ],
      "metadata": {
        "id": "bdsWrZPw7p-p"
      }
    }
  ]
}